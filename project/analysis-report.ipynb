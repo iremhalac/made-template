{
 "cells": [
  {
   "cell_type": "markdown",
   "id": "43fc0190",
   "metadata": {},
   "source": [
    "# Urban Tree Management for Climate Resilience in Würzburg\n",
    "\n",
    "## 1 Introduction\n",
    "\n",
    " Urban areas worldwide are increasingly facing significant environmental challenges due to climate change. Rising temperatures, deteriorating air quality, and more frequent extreme weather events pose serious threats to urban living conditions. Urban trees, often regarded as the \"green lungs\" of cities, play a crucial role in mitigating these adverse effects. They provide shade, reduce urban heat island effects, improve air quality, and contribute to the overall aesthetic and ecological health of urban environments.\n",
    "\n",
    " This project, titled \"Urban Tree Management for Climate Resilience in Würzburg,\" aims to leverage urban tree data to enhance climate resilience and improve living conditions in the city of Würzburg, Germany. By analyzing detailed data on tree species, sizes, locations, and soil moisture levels, we seek to understand how strategic urban forestry can contribute to sustainable city planning and climate adaptation strategies.\n",
    "\n",
    " The main question guiding this project is: How can urban tree data be leveraged to enhance climate resilience and improve living conditions in Würzburg?\n"
   ]
  },
  {
   "cell_type": "markdown",
   "id": "0364b62d",
   "metadata": {},
   "source": [
    "## 2 Methods\n",
    "\n",
    "### 2.1 Data Source\n",
    "\n",
    " Two different datasets were utilized in this project:\n",
    "\n",
    " | Data Source Name                | Data Type | License          | Data Quality                             |\n",
    " |---------------------------------|-----------|------------------|------------------------------------------|\n",
    " | Baumkataster der Stadt Würzburg | CSV       | Open-data license| Requires cleaning for missing values and name standardization. |\n",
    "| Würzburger Klimabäume Bodenfeuchte | CSV       | Open-data license| High-quality, requires alignment with tree data.               |\n",
    "\n",
    "#### 2.1.1 Data Set 1: Baumkataster der Stadt Würzburg\n",
    "\n",
    " - **Data URL:** https://www.govdata.de/web/guest/suchen/-/details/baumkataster-der-stadt-wurzburg\n",
    " - **Description:** This dataset contains comprehensive information on over 40,000 public trees in Würzburg. It includes attributes such as species (both common and Latin names), trunk circumference, height, crown width, and geographical coordinates. These attributes are essential for understanding the distribution, health, and ecological impact of urban trees.\n",
    " - **Data Structure & Quality:** The dataset is structured with well-defined columns representing various attributes of the trees. However, the dataset requires cleaning to address missing values and standardize species names for consistency.\n",
    " - **License:** This dataset is available under an open-data license, which permits usage with appropriate attribution. To comply with the license requirements, all usage of the dataset in our reports and publications will include proper citation of the source.\n",
    "\n",
    "#### 2.1.2 Data Set 2: Würzburger Klimabäume – Bodenfeuchte\n",
    "\n",
    " - **Data URL:** https://www.govdata.de/web/guest/suchen/-/details/wurzburger-klimabaeume-bodenfeuchte\n",
    " - **Description:** This dataset includes sensor data from selected trees planted in various soil types across Würzburg. It tracks soil moisture levels, which is critical for understanding tree health and the effectiveness of watering schedules under different urban conditions.\n",
    " - **Data Structure & Quality:** The dataset is presented in a CSV format, with columns representing various soil moisture metrics and sensor readings. The data is generally high quality but requires alignment with the tree data for effective integration and analysis.\n",
    " - **License:** Similar to the Baumkataster dataset, this data is also under an open-data license. Proper attribution will be ensured in all project outputs, adhering to the license obligations.\n",
    "\n",
    " By combining these datasets, we aim to create a comprehensive view of Würzburg's urban forestry and its impact on climate resilience.\n"
   ]
  },
  {
   "cell_type": "markdown",
   "id": "d931c954",
   "metadata": {},
   "source": [
    "### 2.2 Install dependencies\n",
    "In this project, sqlite3 has been used for loading data into SQL and reading it back, but it doesn't require installation as it comes pre-installed with Python. Data has been stored in tabular form using Pandas, and data manipulations have been performed using Pandas and Numpy. Seaborn and Matplotlib were used for visualizing data and outputs. Additionally, os and requests libraries were utilized for file handling and making HTTP requests respectively."
   ]
  },
  {
   "cell_type": "markdown",
   "id": "5304b44f",
   "metadata": {},
   "source": [
    "### 2.3 Data Pipeline and Data Cleaning\n",
    "The project's backbone is an automated data pipeline designed to extract, transform, and load the Baumkataster and Klimabaeume datasets.\n",
    "![Pipeline](pipeline.png)\n",
    "\n",
    " **Data Extraction and Cleaning:** The process of data extraction and cleaning involves steps such as downloading data from the internet and removing extraneous whitespace. Particular measures have been taken to address missing values and ensure the consistency of datasets. This process is pivotal in maintaining data integrity and accuracy.\n",
    "\n",
    " **Data Transformation:** In the data transformation stage, column names have been renamed for clarity. Additionally, operations such as standardizing data formats and integrating different datasets have been conducted. These steps have contributed to making the data more meaningful and usable.\n",
    "\n",
    " **Data Loading:** The cleaned datasets have been loaded into a SQLite database. This operation ensures that the data is stored more permanently and made ready for analysis later on. This stage enhances data integrity and accessibility, thereby contributing to the data analysis process.\n",
    " \n",
    " **Transformation and Cleaning Steps:**\n",
    "\n",
    "The data transformation and cleaning process involved several crucial steps to ensure the quality and usability of the datasets. First, the necessary CSV files were downloaded using the requests library. These files were then read into Pandas dataframes for further processing. To enhance readability and consistency, leading and trailing whitespaces were removed from column names, and columns were renamed accordingly.\n",
    "\n",
    "Handling missing values was a critical part of this process. Rows with essential missing data were dropped to maintain data integrity. For numerical values, missing data was imputed using medians, while categorical values were imputed with modes. Irrelevant columns were identified and removed to streamline the datasets.\n",
    "\n",
    "Furthermore, data types were converted and validated to ensure appropriate types were used, and any invalid data was handled appropriately. These features make the pipeline robust and adaptable, capable of addressing various data quality issues and changes in input data structure. As a result, consistently prepared datasets have been successfully loaded into the database, providing reliable insights into urban tree management and climate resilience in Würzburg."
   ]
  },
  {
   "cell_type": "markdown",
   "id": "edcb0ead",
   "metadata": {},
   "source": [
    "## 3 Results\n",
    "### 3.1 Analysis\n",
    "In this analysis, the following aspects were examined:\n",
    "\n",
    "1. **Distribution of Tree Species:** Analyzed the diversity and prevalence of different tree species.\n",
    "2. **Tree Health and Growth Relationship:** Investigated how tree health metrics correlate with growth patterns.\n",
    "3. **Tree Characteristics Relationship:** Explored relationships between various tree characteristics and overall health.\n",
    "\n",
    "These analyses provide insights into urban tree management and resilience in Würzburg."
   ]
  },
  {
   "cell_type": "markdown",
   "id": "944dd102",
   "metadata": {},
   "source": [
    "### 3.2 Findings\n",
    "#### 3.2.1 Distribution of Tree Species\n",
    "The diversity and prevalence of different tree species in Würzburg were analyzed. This helps assess biodiversity, identify common and rare species, understand ecological balance, and inform urban forestry management and planning.\n",
    "![Distribution_of_tree_species](distribution_of_tree_species.png)\n",
    "\n",
    "#### 3.2.2 Tree Health and Growth Relationship\n",
    "We investigated the correlation between tree health metrics and growth patterns. This analysis helps to:\n",
    "\n",
    "- **Identify Key Health Indicators:** Determine which health metrics are most closely linked to growth.<br>\n",
    "- **Assess Growth Impact:** Understand how tree health affects growth rates and overall development.<br>\n",
    "- **Inform Management Practices:** Provide insights for optimizing care and maintenance to promote healthy growth.\n",
    "\n",
    "These findings are crucial for enhancing urban tree management and ensuring robust tree growth.\n",
    "![Tree_Health_Metrics](corr_matrix_tree_health.png)\n",
    "\n",
    "\n",
    "#### 3.2.3 Tree Characteristics Relationship\n",
    "\n",
    "We explored the relationships between various tree characteristics and overall health. This analysis helps to:\n",
    "\n",
    "- **Identify Important Characteristics:** Determine which tree characteristics most significantly impact health.\n",
    "- **Understand Interdependencies:** Analyze how different characteristics interact and influence each other.\n",
    "- **Enhance Tree Care:** Provide insights for targeted interventions to improve tree health based on specific characteristics.\n",
    "These findings support more effective and customized tree management strategies.\n",
    "![Tree_Health_Metrics_Extended](corr_matrix_tree_metrics_2.png)\n",
    "\n",
    "\n",
    "\n",
    "\n"
   ]
  },
  {
   "cell_type": "markdown",
   "id": "9d8ed41c",
   "metadata": {},
   "source": [
    "## 4 Discussions\n",
    "\n",
    "### 4.1 Distribution of Tree Species\n",
    "\n",
    "The analysis of tree species distribution in Würzburg, as depicted in the provided visualizations, highlights significant insights into the city's urban forestry. In the Baumkataster dataset, the top species include Acer platanoides, Acer campestre, and Carpinus betulus, indicating a preference for certain hardy and adaptable species. These species' prevalence suggests their suitability to the urban environment and their role in providing essential ecological services such as shade and air quality improvement. The diversity of species, including Quercus robur and Prunus avium, showcases a reasonable degree of biodiversity, essential for ecological balance and resilience against pests and diseases.\n",
    "\n",
    "The Klimabaeume dataset, which focuses on trees monitored for soil moisture, reveals a different composition, with species like Ulmus new horizon and Tilia cordata greenspire being more prominent. This distinction suggests a strategic selection for species that may be more drought-resistant or better suited to the specific conditions being monitored. The presence of \"unknown\" species in significant numbers indicates areas for improvement in data collection and species identification, which can enhance overall urban forestry management.\n",
    "\n",
    "These findings emphasize the importance of diverse species selection to promote ecological stability and resilience. The data supports the need for ongoing monitoring and tailored management practices to address the varying requirements of different species, ensuring sustainable urban forestry that can adapt to changing climatic conditions. Effective urban tree management in Würzburg must continue to leverage detailed species data to maintain and enhance the city’s green infrastructure, thereby improving climate resilience and overall urban living conditions.\n",
    "\n",
    "### 4.2 Tree Health and Growth Relationship\n",
    "\n",
    "The correlation analysis between tree health metrics and growth patterns provides valuable insights into the factors that influence urban tree development in Würzburg. The correlation matrices for soil moisture content at 30 cm and 100 cm depths and various growth metrics, such as trunk circumference, height, and crown width, reveal significant relationships that can guide urban tree management.\n",
    "\n",
    "From the analysis, it is evident that trunk circumference, height, and crown width exhibit strong positive correlations with each other. Specifically, trunk circumference correlates highly with both height (0.75) and crown width (0.78). Similarly, height and crown width also show a strong correlation (0.79). This suggests that as trees grow taller, their trunks also thicken, and their crowns expand proportionally.\n",
    "\n",
    "Interestingly, soil moisture content, both at 30 cm and 100 cm depths, shows very weak negative correlations with the growth metrics. For instance, the correlation between soil moisture at 30 cm and trunk circumference is -0.087, and at 100 cm, it is -0.19. These weak correlations indicate that soil moisture levels alone may not be the primary drivers of tree growth in this urban setting, or that the trees are adapting well to varying moisture conditions.\n",
    "\n",
    "These findings highlight the complexity of factors influencing tree growth. The strong correlations among trunk circumference, height, and crown width confirm that these metrics are reliable indicators of overall tree health and growth patterns. However, the weak correlation with soil moisture content suggests that other factors, such as species-specific traits, soil quality, and urban environmental conditions, also play significant roles.\n",
    "\n",
    "For urban tree management, these insights suggest a focus on monitoring and maintaining overall tree health metrics, such as trunk circumference, height, and crown width, to ensure robust growth. While soil moisture is important, it should be considered alongside other factors to optimize care and maintenance practices effectively. This holistic approach can enhance the resilience and sustainability of urban forests, contributing to better climate adaptation and improved urban living conditions in Würzburg.\n",
    "\n",
    "### 4.3 Tree Characteristics Relationship\n",
    "\n",
    "We explored the relationships between various tree characteristics and overall tree health metrics. The analysis, visualized through the correlation matrix heatmap, provides insights into key factors affecting tree health and their interdependencies.\n",
    "\n",
    "Temperature emerges as a critical factor in tree growth and overall health, indicating that maintaining optimal soil temperatures can significantly impact tree vitality. Additionally, the soil's water holding capacity at different depths plays an essential role in influencing the soil's physical properties, which in turn affect tree health.\n",
    "\n",
    "The correlation matrix highlights how different tree characteristics and soil properties interact and influence each other. A strong correlation between soil permittivity and usable field capacity suggests that soil moisture content significantly affects the soil's ability to retain water. Additionally, the high correlation between soil temperature and tree health metrics across different depths emphasizes the importance of temperature regulation for tree growth. Managing soil temperature effectively could, therefore, be a strategic approach to enhance tree health and growth.\n",
    "\n",
    "The analysis also considered various other soil and tree characteristics, revealing nuanced interdependencies that impact urban tree health. While some characteristics showed weaker correlations with tree growth metrics, they still contribute to overall tree vitality. These factors are essential for maintaining balanced soil conditions and supporting nutrient availability, which are crucial for healthy tree development. The moderate correlations observed in the analysis emphasize the importance of optimal soil conditions to enhance tree growth. \n",
    "\n",
    "These findings suggest that a comprehensive approach to urban tree management should account for a range of soil properties and environmental factors. By integrating these insights, urban forestry practices can be tailored to address the specific needs of trees, promoting their health and resilience in an urban setting. This holistic strategy is vital for developing a sustainable and climate-resilient urban forest in Würzburg.\n",
    "\n"
   ]
  },
  {
   "cell_type": "markdown",
   "id": "0ac1e5ed",
   "metadata": {},
   "source": [
    "## 5 Conclusion\n",
    "This study underscores the pivotal role of urban trees in bolstering climate resilience and enhancing urban living standards in Würzburg. Through thorough analysis of extensive tree and soil datasets, we have unearthed critical insights essential for refining urban tree management practices.\n",
    "\n",
    "Diverse species such as Acer platanoides and Ulmus new horizon are integral to maintaining ecological stability and facilitating climate adaptation strategies. Our exploration of correlations between tree health metrics and environmental variables provides a foundation for implementing targeted management approaches.\n",
    "\n",
    "Looking ahead, the integration of these findings into urban planning frameworks will promote sustainable development and cultivate resilient cities. This project stands as a cornerstone in advancing greener, healthier urban environments in Würzburg, especially crucial amidst ongoing climate challenges. "
   ]
  },
  {
   "cell_type": "code",
   "execution_count": null,
   "id": "82ad6baf",
   "metadata": {},
   "outputs": [],
   "source": []
  }
 ],
 "metadata": {
  "kernelspec": {
   "display_name": "Python 3 (ipykernel)",
   "language": "python",
   "name": "python3"
  },
  "language_info": {
   "codemirror_mode": {
    "name": "ipython",
    "version": 3
   },
   "file_extension": ".py",
   "mimetype": "text/x-python",
   "name": "python",
   "nbconvert_exporter": "python",
   "pygments_lexer": "ipython3",
   "version": "3.11.9"
  }
 },
 "nbformat": 4,
 "nbformat_minor": 5
}
